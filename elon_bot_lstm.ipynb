{
  "nbformat": 4,
  "nbformat_minor": 0,
  "metadata": {
    "colab": {
      "name": "elon_bot_lstm.ipynb",
      "provenance": [],
      "collapsed_sections": [],
      "toc_visible": true,
      "machine_shape": "hm"
    },
    "kernelspec": {
      "name": "python3",
      "display_name": "Python 3"
    },
    "accelerator": "GPU"
  },
  "cells": [
    {
      "cell_type": "markdown",
      "metadata": {
        "id": "GtM5wfmjxuks"
      },
      "source": [
        "# Automatic Elon Musk: Text Generation with LSTM\n",
        "\n",
        "Text Gen using a character-level LSTM network"
      ]
    },
    {
      "cell_type": "code",
      "metadata": {
        "id": "ONw4lxAl_hGU"
      },
      "source": [
        "import tensorflow as tf \n",
        "from tensorflow import keras\n",
        "from tensorflow.keras.models import Model, Sequential\n",
        "from tensorflow.keras import layers\n",
        "import pandas as pd\n",
        "import numpy as np\n",
        "from google.colab import drive\n",
        "import matplotlib.image as mpimg\n",
        "import matplotlib.pyplot as plt\n",
        "import random"
      ],
      "execution_count": 1,
      "outputs": []
    },
    {
      "cell_type": "code",
      "metadata": {
        "colab": {
          "base_uri": "https://localhost:8080/"
        },
        "id": "-H_wlMRWYJ_h",
        "outputId": "73ecb922-c981-422f-801a-4a9a92a71258"
      },
      "source": [
        "drive.mount('/gdrive')\n",
        "drive_root = '/gdrive/My Drive/'"
      ],
      "execution_count": 2,
      "outputs": [
        {
          "output_type": "stream",
          "text": [
            "Drive already mounted at /gdrive; to attempt to forcibly remount, call drive.mount(\"/gdrive\", force_remount=True).\n"
          ],
          "name": "stdout"
        }
      ]
    },
    {
      "cell_type": "code",
      "metadata": {
        "id": "yC3b6yZjRz0O",
        "colab": {
          "base_uri": "https://localhost:8080/"
        },
        "outputId": "005e617d-f9a5-4083-c51b-477e5e4bff62"
      },
      "source": [
        "%cd ..\n",
        "%cd gdrive/MyDrive/elon_bot"
      ],
      "execution_count": 3,
      "outputs": [
        {
          "output_type": "stream",
          "text": [
            "/\n",
            "/gdrive/MyDrive/elon_bot\n"
          ],
          "name": "stdout"
        }
      ]
    },
    {
      "cell_type": "markdown",
      "metadata": {
        "id": "5GFj3rv1R1r1"
      },
      "source": [
        "## Preprocessing"
      ]
    },
    {
      "cell_type": "code",
      "metadata": {
        "id": "d6MEni98_sVI",
        "colab": {
          "base_uri": "https://localhost:8080/",
          "height": 204
        },
        "outputId": "f9512914-c941-4dce-e827-51e300564aad"
      },
      "source": [
        "# 2020 01 ~ 12\n",
        "elon_df = pd.read_csv('elon_tweets.csv')\n",
        "elon_df.head()"
      ],
      "execution_count": 4,
      "outputs": [
        {
          "output_type": "execute_result",
          "data": {
            "text/html": [
              "<div>\n",
              "<style scoped>\n",
              "    .dataframe tbody tr th:only-of-type {\n",
              "        vertical-align: middle;\n",
              "    }\n",
              "\n",
              "    .dataframe tbody tr th {\n",
              "        vertical-align: top;\n",
              "    }\n",
              "\n",
              "    .dataframe thead th {\n",
              "        text-align: right;\n",
              "    }\n",
              "</style>\n",
              "<table border=\"1\" class=\"dataframe\">\n",
              "  <thead>\n",
              "    <tr style=\"text-align: right;\">\n",
              "      <th></th>\n",
              "      <th>username</th>\n",
              "      <th>id</th>\n",
              "      <th>text</th>\n",
              "      <th>createdtime</th>\n",
              "      <th>num_of_retweets</th>\n",
              "      <th>hashtags</th>\n",
              "    </tr>\n",
              "  </thead>\n",
              "  <tbody>\n",
              "    <tr>\n",
              "      <th>0</th>\n",
              "      <td>elonmusk</td>\n",
              "      <td>1.341096e+18</td>\n",
              "      <td>@LizClaman @Tesla @FoxBusiness @ClamanCountdow...</td>\n",
              "      <td>2020-12-21 19:00:31</td>\n",
              "      <td>11.0</td>\n",
              "      <td>[]</td>\n",
              "    </tr>\n",
              "    <tr>\n",
              "      <th>1</th>\n",
              "      <td>elonmusk</td>\n",
              "      <td>1.341007e+18</td>\n",
              "      <td>Thanks to everyone who worked so hard to make ...</td>\n",
              "      <td>2020-12-21 13:04:16</td>\n",
              "      <td>7595.0</td>\n",
              "      <td>[]</td>\n",
              "    </tr>\n",
              "    <tr>\n",
              "      <th>2</th>\n",
              "      <td>elonmusk</td>\n",
              "      <td>1.341006e+18</td>\n",
              "      <td>@teslaownerssv Indeed</td>\n",
              "      <td>2020-12-21 13:02:48</td>\n",
              "      <td>79.0</td>\n",
              "      <td>[]</td>\n",
              "    </tr>\n",
              "    <tr>\n",
              "      <th>3</th>\n",
              "      <td>elonmusk</td>\n",
              "      <td>1.340981e+18</td>\n",
              "      <td>@Kristennetten It was a seriously twisted affa...</td>\n",
              "      <td>2020-12-21 11:21:24</td>\n",
              "      <td>86.0</td>\n",
              "      <td>[]</td>\n",
              "    </tr>\n",
              "    <tr>\n",
              "      <th>4</th>\n",
              "      <td>elonmusk</td>\n",
              "      <td>1.340979e+18</td>\n",
              "      <td>@MKBHD They are, although it’s kind low-key. T...</td>\n",
              "      <td>2020-12-21 11:13:27</td>\n",
              "      <td>715.0</td>\n",
              "      <td>[]</td>\n",
              "    </tr>\n",
              "  </tbody>\n",
              "</table>\n",
              "</div>"
            ],
            "text/plain": [
              "   username            id  ... num_of_retweets hashtags\n",
              "0  elonmusk  1.341096e+18  ...            11.0       []\n",
              "1  elonmusk  1.341007e+18  ...          7595.0       []\n",
              "2  elonmusk  1.341006e+18  ...            79.0       []\n",
              "3  elonmusk  1.340981e+18  ...            86.0       []\n",
              "4  elonmusk  1.340979e+18  ...           715.0       []\n",
              "\n",
              "[5 rows x 6 columns]"
            ]
          },
          "metadata": {
            "tags": []
          },
          "execution_count": 4
        }
      ]
    },
    {
      "cell_type": "code",
      "metadata": {
        "colab": {
          "base_uri": "https://localhost:8080/",
          "height": 204
        },
        "id": "peNDFyE9Yxhs",
        "outputId": "862f9a8e-c1f3-49a2-940d-ed6185e6dd95"
      },
      "source": [
        "# 2012 ~ 2017\n",
        "elon_2012 = pd.read_csv('data_elonmusk.csv', encoding= 'unicode_escape')\n",
        "elon_2012.head()"
      ],
      "execution_count": 5,
      "outputs": [
        {
          "output_type": "execute_result",
          "data": {
            "text/html": [
              "<div>\n",
              "<style scoped>\n",
              "    .dataframe tbody tr th:only-of-type {\n",
              "        vertical-align: middle;\n",
              "    }\n",
              "\n",
              "    .dataframe tbody tr th {\n",
              "        vertical-align: top;\n",
              "    }\n",
              "\n",
              "    .dataframe thead th {\n",
              "        text-align: right;\n",
              "    }\n",
              "</style>\n",
              "<table border=\"1\" class=\"dataframe\">\n",
              "  <thead>\n",
              "    <tr style=\"text-align: right;\">\n",
              "      <th></th>\n",
              "      <th>row ID</th>\n",
              "      <th>Tweet</th>\n",
              "      <th>Time</th>\n",
              "      <th>Retweet from</th>\n",
              "      <th>User</th>\n",
              "    </tr>\n",
              "  </thead>\n",
              "  <tbody>\n",
              "    <tr>\n",
              "      <th>0</th>\n",
              "      <td>Row0</td>\n",
              "      <td>@MeltingIce Assuming max acceleration of 2 to ...</td>\n",
              "      <td>2017-09-29 17:39:19</td>\n",
              "      <td>NaN</td>\n",
              "      <td>elonmusk</td>\n",
              "    </tr>\n",
              "    <tr>\n",
              "      <th>1</th>\n",
              "      <td>Row1</td>\n",
              "      <td>RT @SpaceX: BFR is capable of transporting sat...</td>\n",
              "      <td>2017-09-29 10:44:54</td>\n",
              "      <td>SpaceX</td>\n",
              "      <td>elonmusk</td>\n",
              "    </tr>\n",
              "    <tr>\n",
              "      <th>2</th>\n",
              "      <td>Row2</td>\n",
              "      <td>@bigajm Yup :)</td>\n",
              "      <td>2017-09-29 10:39:57</td>\n",
              "      <td>NaN</td>\n",
              "      <td>elonmusk</td>\n",
              "    </tr>\n",
              "    <tr>\n",
              "      <th>3</th>\n",
              "      <td>Row3</td>\n",
              "      <td>Part 2 https://t.co/8Fvu57muhM</td>\n",
              "      <td>2017-09-29 09:56:12</td>\n",
              "      <td>NaN</td>\n",
              "      <td>elonmusk</td>\n",
              "    </tr>\n",
              "    <tr>\n",
              "      <th>4</th>\n",
              "      <td>Row4</td>\n",
              "      <td>Fly to most places on Earth in under 30 mins a...</td>\n",
              "      <td>2017-09-29 09:19:21</td>\n",
              "      <td>NaN</td>\n",
              "      <td>elonmusk</td>\n",
              "    </tr>\n",
              "  </tbody>\n",
              "</table>\n",
              "</div>"
            ],
            "text/plain": [
              "  row ID  ...      User\n",
              "0   Row0  ...  elonmusk\n",
              "1   Row1  ...  elonmusk\n",
              "2   Row2  ...  elonmusk\n",
              "3   Row3  ...  elonmusk\n",
              "4   Row4  ...  elonmusk\n",
              "\n",
              "[5 rows x 5 columns]"
            ]
          },
          "metadata": {
            "tags": []
          },
          "execution_count": 5
        }
      ]
    },
    {
      "cell_type": "code",
      "metadata": {
        "colab": {
          "base_uri": "https://localhost:8080/"
        },
        "id": "4pFI-lO_Zoy5",
        "outputId": "4abfae18-05d6-4943-e2f9-59ab182c674f"
      },
      "source": [
        "tweets_2012 = elon_2012.Tweet\n",
        "\n",
        "# remove retweets\n",
        "retweet = ['RT']\n",
        "tweets_2012 = tweets_2012[~tweets_2012.str.contains('|'.join(retweet))]\n",
        "len(tweets_2012)"
      ],
      "execution_count": 6,
      "outputs": [
        {
          "output_type": "execute_result",
          "data": {
            "text/plain": [
              "2690"
            ]
          },
          "metadata": {
            "tags": []
          },
          "execution_count": 6
        }
      ]
    },
    {
      "cell_type": "code",
      "metadata": {
        "id": "MqCzWZnNY8x3"
      },
      "source": [
        "# manually scraped tweets\n",
        "tweets_2019 = ['Was up all night with SpaceX team working on Starship tank dome production (most difficult part of primary structure). Dawn arrives …',\n",
        "              'Almost three now. Boca team is crushing it! Starship has giant dome Rolling on the floor',\n",
        "              'Turn on auto navigate feature & car will activate traffic-based navigation to work, home or calendar, depending on context, as soon as you sit down. No input required at all.',\n",
        "              'Just swipe down on Tesla nav button for car to automatically navigate to home, work or destination in calendar',\n",
        "              'stock art', 'Whoa … the stock is so high lol', 'Just looked at my wiki for 1st time in years. It’s insane! Btw, can someone please delete “investor”. I do basically zero investing.',\n",
        "              'If Tesla & SpaceX go bankrupt, so will I. As it should be.', 'The real reason for Looper was to travel back in time & stop a terrible calamity — the premiere of Cats!',\n",
        "              'Pre VFX cut would be $$$$', 'Tesla holiday software update has FSD sneak preview, Stardew Valley, Lost Backgammon & a few other things',\n",
        "              'You don’t hear much about element 43', 'Tesla Moth Mode (better late than never)',\n",
        "              'Never trust cynics, as they excuse their own bad deeds by telling themselves everyone does it',\n",
        "              'If life is a video game, the graphics are great, but the plot is confusing & the tutorial is way too long',\n",
        "              'Games only render what you look at when you look at it, as the compute load would otherwise be impossibly high. Until observed, objects are a probability function, aka quantum mechanics.',\n",
        "              'smol ∩ puppy ∩ math', 'Root of energy to mass ratio is max render speed of the simulation',\n",
        "              'Meant to say “is render speed”. Frame rate is locked.', 'Way too many paywalls & spawn points',\n",
        "              'Just Read the Instructions', 'Kids these days have no respect!', 'Math jokes have a small audience',\n",
        "              'Huge thanks to everyone who contributed ideas to Cybertruck. It’s better because of you!',\n",
        "              'Speed solves everything', 'Franz throws steel ball at Cybertruck window right before launch. Guess we have some improvements to make before production haha.',\n",
        "              'People often think they’re breathing oxygen, but are actually breathing nitrogen (78%) with a side serving of oxygen (21%) in argon sauce (1%), spiced up with CO2, H2O & a dash of neon & krypton (etc.)',\n",
        "               'nobody *expects* the Cybertruck', '146k Cybertruck orders so far, with 42% choosing dual, 41% tri & 17% single motor',\n",
        "              'Hydrogen is a light, odorless gas, which, given enough time, turns into people who will make this statement',\n",
        "              'Tesla Cybertruck (pressurized edition) will be official truck of Mars', 'Cybertruck is our last product unveil for a while, but there will be some (mostly) unexpected technology announcements next year',\n",
        "               'Reason Cybertruck is so planar is that you can’t stamp ultra-hard 30X steel, because it breaks the stamping press', \n",
        "               'Bring it on', '78% of people want to gentrify Mordor', 'National Science Foundation, u should add a W to ur name. Would get way more clicks. Ur welcome.',\n",
        "               '200k', 'http://x.com/x', 'Sandwich time travel is the only explanation', 'For Treebeard', 'If you’re directly affected by wildfire power outages, Tesla is reducing Solar+Powerwall prices by $1000 as of today',\n",
        "               'Took my son to play piano for the seniors home in Pasadena. It was lovely to see them smile', 'Maybe call Tesla solar roof tiles product Solarglass? Like Dragonglass, but solar!',\n",
        "               'Congrats to Tesla team on Model 3 winning best midsize car in Germany!', 'Gentrify Mordor?', 'Some secrets are too dangerous to be free',\n",
        "               'Rage, rage against the dying of the light', 'Um @Porsche, this word Turbo does not mean what you think it does', \n",
        "               'Starship will allow us to inhabit other worlds', 'Told you AI was dangerous!!', 'If advanced AI (beyond basic bots) hasn’t been applied to manipulate social media, it won’t be long before it is',\n",
        "               'Might make sense to have thousands of solar reflector satellites 🛰 to warm Mars vs artificial suns (tbd)',\n",
        "               'Model S just set record for fastest 4 door ever at Laguna Seca, video tmrw', 'The only thing beyond Ludicrous is Plaid',\n",
        "               'Area 51 of Area 51', 'And flights of angels sing thee to thy rest', 'Probability that we’re in base Polytopia is highly unlikely - KWM',\n",
        "               'Hadouken!!', 'Technically, alcohol is a solution', 'To Infinity and Beyond!', 'SpaceX has Area 59', 'I am become meme', \n",
        "               'Falcon rocket reentry from space with double sonic booms', \"“If you dislike change, you're going to dislike irrelevance even more.” — Gen Shinseki\",\n",
        "               'Neuralink surprise twist!', 'Ability to stream YouTube & Netflix when car is stopped coming to your Tesla soon! Has an amazingly immersive, cinematic feel due to the comfy seats & surround sound audio.',\n",
        "               'Accelerating Starship development to build the Martian Technocracy', 'Starhopper flight successful. Water towers *can* fly haha!!',\n",
        "               'Dr. Livingstone, I presume?', 'Meme of recursive irony', 'Yep, order online at http://Tesla.com in 2 mins & car delivered direct to home',\n",
        "               'Typing Merlin literally just autocorrected me to merkin', 'Tesla owners can schedule service appointments in under a minute just using their Tesla phone app!',\n",
        "               'Tesla is going to develop a quiet, electric leafblower', 'Happy Home Planet Day!', 'Turns out there’s more ways to use Autopilot than we imagined',\n",
        "               'Changing Tesla horn sound to Goat', 'Ethereum', 'My Twitter is pretty much complete nonsense at this point',\n",
        "              'The Internet is insane', 'Thinking about adding giant stainless steel dragon wings to Starship',\n",
        "              '“Wake up sheeple!” - sheep', 'Back to work …', \n",
        "               'Please support my campaign to rebrand @WSJ as Socks emoji!', 'When you read double standard articles about Tesla, please ask why. Maybe there’s a good reason that isn’t obvious.',\n",
        "              'Please note that the price of the Tesla Full Self-Driving option will increase substantially over time', \n",
        "              'Bach is killing it on YouTube', 'At some point, @TheOnion and I should just a get a room …',\n",
        "              'Buying a car in 2019 that can’t upgrade to full self-driving is like buying a horse instead of a car in 1919',\n",
        "              'Static fire data looks good so far. This is first launch of Falcon Heavy Block 5, so we’re being extra cautious. Launch date might move.',\n",
        "              'Dogecoin value may vary', 'Dogecoin rulz', 'Host meme review?', 'tbh smh', 'Just bought http://stankmemes.com oh yeah',\n",
        "              'ET phone home. No answer', 'LA is so beautiful after the rain', 'If heat death will be inevitable end of Universe, it actually *is* all about journey',\n",
        "               'Fate *loves* irony. Frankly, too much.', 'Tap Tesla logo at top of your car’s touchscreen & wait 10 secs to open special features box',\n",
        "               'Thursday 2pm', 'Make the Mars Technocracy real', 'Sending this tweet through space via Starlink satellite 🛰',\n",
        "               'But actually …', 'the color orange is named after the fruit', 'Haha', 'And the lead character is also named Woody',\n",
        "               'Space Jam should’ve won the Oscar', 'Why is there no emoji for dignity!!', 'Srsly', 'Going offline for a few days',\n",
        "               'Is Space Jam good?', 'Inside Starship cargo bay. Header tanks mounted in tip of nosecone to offset engine weight at rear.',\n",
        "               'Tesla Q3 results: - Shanghai Giga ahead of schedule - Model Y ahead of schedule - Solar installs +48% from Q2 - GAAP profitable - Positive free cash flow',\n",
        "               'French fries French fries are the devil Smiling face with horns', 'More carrot, less stick', 'So much respect for those doing high volume manufacturing. It’s insanely hard, but you make a real thing that people value. My hat is off to you …',\n",
        "               'Tesla software V10.0 comes with karaoke Microphone', 'Excited about launching @NASA asteroid defense mission!',\n",
        "               'Thank for helping grow sustainable energy through solar!', 'All Tesla Supercharger stations in regions affected by California power outages will have Tesla Powerpacks within next few weeks. Just waiting on permits.',\n",
        "               'Soon, SpaceX will launch @NASA atronauts to @Space_Station!', 'Customized horn & movement sounds (coconuts being one, of course) coming to Teslas soon',\n",
        "               'Tesla wins best headlights award First place medal', 'Over 550,000 Tesla Smart Summon uses in first few days!',\n",
        "               'Tesla Solar Tile Roof V3 launch tomorrow at 2pm', 'Given how quickly the world is shifting to electric vehicles, a gas/diesel vehicle bought today will probably have low resale value',\n",
        "               'Get Tesla Solar plus Powerwall battery for 24/7 clean power & no more blackouts! http://Tesla.com/solar', 'Apologies to those waiting for Solar/Powerwall outside California, as we are prioritizing those affected by wildfires',\n",
        "               'Tesla Solarglass roof', 'Ms. Chief & Ms. Tree', 'Homes with solar sell for 4.1% more, according to Zillow. Adding a Powerwall battery is highly likely to increase home value too imo, as security against blackouts is increasingly important. https://zillow.com/research/solar-panels-house-sell-more-23798/amp/?__twitter_impression=true',\n",
        "               'Worth reading “Human Compatible” by Stuart Russell (he’s great!) about future AI risks & solutions', 'Now that Tesla V10.0 with Smart Summon is out, Full Self-Driving price will increase by $1000 on Nov 1',\n",
        "               'Rosetta by Vangelis is incredible', 'A Shortfall of Gravitas', 'http://Etymology.com',\n",
        "               'Haha actually true', 'Fates loves irony', 'bee all u can bee', 'No but srsly don’t do it', 'Nuke Mars!',\n",
        "               'Hashtags are an abomination', 'Rocket fairing falls from space & is caught by Ms Tree boat', \n",
        "               'Rocket fairing falling from space (higher res)', 'The sun is an immense thermonuclear explosion fyi',\n",
        "               'Falcon 9 piercing the sound barrier on reentry', 'Cookie decorating contest with kids',\n",
        "               'Gas cars are so last-century!', 'Encounter in 88', 'Just left Starship Texas build site. Very proud of progress SpaceX team has made! Pics are of 9m dome rotation & Starship airframe behind windbreak.',\n",
        "               'Great name! Wouldn’t worry about this particular one, but a big rock will hit Earth eventually & we currently have no defense.',\n",
        "               'Dragon Crew Arm. Astronauts will walk this gantry to enter Dragon & depart for the @Space_Station.',\n",
        "               'Time to face reality', 'Tesla Solar just relaunched. Lmk what you think … http://Tesla.com/solar',\n",
        "               'Tesla software V10 is lookin real good! Releasing to early access list soon …', 'Tesla Megapack now available for utility-scale energy storage',\n",
        "               'Dronship with wings folded traveling through Panama Canal', 'Looks like @SpaceX Starhopper flight may be as soon as Monday. FAA support is much appreciated!',\n",
        "               'Starhopper flight currently tracking to 5pm Texas time for 150m / ~500ft hover test', 'Try playing Powerglide in your Tesla at volume 11',\n",
        "               'Now that Hopper has flown, Starship update probably in two weeks or so.', 'About to do next Starhopper flight test',\n",
        "               'And @JayLeno really knows cars!', 'Hoping to catch the fairing in a few mins', 'Also, u can order online at http://Tesla.com in 2 mins, have car delivered to ur doorstep & return for full refund',\n",
        "               'Watching a movie on Tesla V10.0 is great, in large part due to the sound system', 'Lyft/Uber/taxi drivers are expert Tesla advocates. Thanks for your support!!',\n",
        "               'Price increase for Tesla FSD postponed until version 10 with smart summon is in wide release, which is about 4 to 8 weeks away, depending on how early access goes',\n",
        "               'About 5 mins from flight attempt', 'Thanks George!', 'heh heh', 'A US bee', 'fyi', 'Teletub bee', 'Corporate Surrealism TM',\n",
        "               'And I am forever grateful', 'Stonk tip of the day', 'Can’t fool me it was 1669', 'Lots more games coming once we finish porting Unity!',\n",
        "               'Racing at 127mph in a tunnel under LA', 'Tesla does not advertise or pay for endorsements. Instead, we use that money to make the product great.',\n",
        "               'Starlink mission will be heaviest @SpaceX payload ever at 18.5 tons. If all goes well, each launch of 60 satellites will generate more power than Space Station & deliver 1 terabit of bandwidth to Earth.',\n",
        "               'Space is easy, orbit is hard', 'Beautiful solar sail', 'Oh stop teasing, Jeff', 'Falcon Heavy on LC-39A', 'Truth', 'This is why we put extra filters in all Tesla cars. S & X even have hospital operating room grade HEPA filters.',\n",
        "               'GoT season finale leaked', 'True, cost of operating a Tesla is much lower than other cars', 'Smart Summon coming soon!',\n",
        "               'Huge thanks to all Tesla supporters around the world helping the cause.', 'Kids playing Beach Buggy in Tesla store',\n",
        "               'Starting next month, Tesla will charge $1000 for color black (same price as silver)', 'Dragon approaching Space Station',\n",
        "               'Found an old copy of @SignalApp', 'Model 3 arriving in UK', 'Ms. Tree caught the Falcon fairing!!', 'Truth is a metaphorical concept with no footwear or clothing of anything kind. Also, baby don’t hurt me haha',\n",
        "               'Landing in the fog', 'Boring Company guide to why tunnels are awesome & safest place to be in an earthquake',\n",
        "               'Been wanting to go ever since that Finnish metal band won', 'Launch in 3 mins', 'New S & X are much improved. Worth trying out. You’re on version 2, current S/X is version 4.',\n",
        "               'Design & production of The Spirit of St Louis was so incredible', 'Anywhere can be paradise as long as you have the will to live.',\n",
        "               '“Stop sending me this étron” - Audi', 'The Falcons have landed', 'Starships on Mars', 'Full Metal Alchemy',\n",
        "               'Latest Autopilot update is epic. Rolling out to all US owners with Enhanced Autopilot or Full Self-Driving option. International coming soon.',\n",
        "               'Starhopper just lifted off & hit tether limits!', 'Switched souls with The Museum of English Rural Lofe', 'Original moth meme',\n",
        "               'Starship on the moon', 'The Tesla Full Self-Driving Computer now in production is at about 5% compute load for these tasks or 10% with full fail-over redundancy',\n",
        "               'Respawn++', 'Almost all coverage back then said hydrogen fuel cells would destroy electric cars & autonomy was between 10 years & never …',\n",
        "               'Obv just someone in a 🐿 suit. Also, very sus that a Fox face is reporting on this.', 'New Model S has 370 mile / 595 km range',\n",
        "               'Starhopper completed tethered hop. All systems green.', 'This is way more awesome than it might sound', 'Yup',\n",
        "               'Great meme review hosted by Will Smith', 'thank goodness it’s not November', 'Only a matter of time',\n",
        "               'Oh hi lol', '4000 Tesla cars loading in SF for Europe', 'I want you too baby', 'First firing of Starship Raptor flight engine! So proud of great work by @SpaceX team!!',\n",
        "               'Stop censoring science!', 'Raptor just achieved power level needed for Starship & Super Heavy', 'SpaceX foundry casting Raptor engine manifold out of Inconel',\n",
        "               'Still my favorite tweet of all time', 'Blood moon over LA tonight', 'Of course I still love you', 'Awesome moose sculpture!',\n",
        "               'Preparing to fire the Starship Raptor engine at @SpaceX Texas', 'Testing metallic heat shield at 1100C (2000F) @SpaceX',\n",
        "               'Falcon comes home', 'At @SpaceX Texas with engineering team getting ready to fire new Raptor rocket engine',\n",
        "               'Exciting to see all the new electric vehicles coming to market! We created Tesla to accelerate a sustainable future & it’s happening!',\n",
        "               'Highest reentry heating to date. Burning metal sparks from base heat shield visible in landing video. Fourth relight scheduled for April.',\n",
        "               'Just left Zeebrugge, now Tilburg, then Tesla HQ in Amsterdam & Oslo tonight to review service in Norway. Exciting to see thousands of Model 3’s on their way to owners in Europe!',\n",
        "               'The Tesla customer referral program will end on Feb 1. If you want to refer a friend to buy a Tesla & give them 6 months of free Supercharging, please do so before then.',\n",
        "               'View of SpaceX Dragon 1 berthed with @Space_Station in the last Cupola opening. Dragon 2 (Crew Dragon) launching soon.',\n",
        "               'Great electric car documentary about early days of Tesla, GM Volt, Nissan Leaf & Gadget. So much has happened since then … ',\n",
        "               'Tesla Sentry Mode will play Bach’s Toccata and Fugue during a robbery (and keep Summer safe)', 'Tesla Model X first SUV to receive a perfect crash test rating', 'Entropy is the ultimate boss battle',\n",
        "               'SpaceX Dragon from as seen from @Space_Station viewport']\n"
      ],
      "execution_count": 7,
      "outputs": []
    },
    {
      "cell_type": "code",
      "metadata": {
        "id": "hmHPifbxZL3m"
      },
      "source": [
        "tweets_2018 = ['ramen is sooo good', 'You can summon your Tesla from your phone. Only short distances today, but in a few years summon will work from across the continent.',\n",
        "              'Anxiety is a scalar, fear is a vector', 'Engineering is true magic', 'Merry Christmas & goodwill to all!!',\n",
        "              'Tracking shot of Falcon water landing', 'Engines stabilized rocket spin just in time, enabling an intact landing in water! Ships en route to rescue Falcon.',\n",
        "              'Please put “invented car fart” on my gravestone. This is my only request.', 'For those worried about running out of fresh water, it may help to know that desalination only costs 0.1 cents per liter or half a cent per gallon',\n",
        "              'Stainless Steel Starship', 'Join our underground movement!', 'Tesla in @boringcompany tunnel with retractable wheel gear that turns a car into a rail-guided train & back again',\n",
        "              'Tesla history trivia: we didn’t actually come up with the Tesla Motors name. Bought trademark off Brad Siewert for $75k in late 2004. He’d originally filed for it in 1994. Our alternative name was Faraday, which was used by a competitor several years later.',\n",
        "              'Love that people are buying a Tesla for the product itself, even if they don’t believe in climate change.  Not everyone can be convinced about global warming, but if an electric car is simply the best product, they don’t need to be.',\n",
        "              'Boring Company product launch on Dec 18. More than a tunnel opening. Will include modded but fully road legal autonomous transport cars & ground to tunnel car elevators.',\n",
        "              'If you have a Tesla built in past 2 years, definitely try Navigate on Autopilot. It will blow your mind. Automatically passes slow cars & takes highway interchanges & off-ramps.',\n",
        "              'Used to live in Silicon Valley, now I live in Silicone Valley', 'Falcon fairing halves missed the net, but touched down softly in the water. Mr Steven is picking them up. Plan is to dry them out & launch again. Nothing wrong with a little swim.',\n",
        "              'Are tunnels safe in an earthquake?', 'Boring breakthrough @BoringCompany', 'Cool! Actually, if you buy a Tesla without a test drive, you have 3 days to return it. If you buy after a test drive, you still have 24 hours. Trying to incent buying with no test drive.',\n",
        "              'Honored to work with amazing teams at SpaceX & Tesla!', \n",
        "               'Join to create exciting new worlds of technology!! If getting things done matters to you, then @SpaceX, @Tesla, @BoringCompany & @Neuralink are the places to be.',\n",
        "              'Amazing space progress by China. This year they did more orbital launches than the USA for the first time.', 'Boring product launch will be streamed live at 8pm California time tonight',\n",
        "              'Grid fin hydraulic pump stalled, so Falcon landed just out to sea. Appears to be undamaged & is transmitting data. Recovery ship dispatched.',\n",
        "              'Excited to have Larry Ellison & Kathleen Wilson-Thompson join the Tesla board!', 'The demo ride takes you in *same* car on road, down elevator, zips through tunnel using guide wheels, up elevator at destination & then drives on normal roads back to start',\n",
        "              'Super fun software Easter eggs coming to all Tesla S/3/X cars before the holidays! Romance mode, toilet humor & more video games.',\n",
        "              'Tesla phone app release next week will enable service scheduling in 2 mins with a few taps. No more need to call!', \n",
        "              'Next step for @BoringCompany Loop is demonstrating high throughput at high speed. Target is 4000 vehicles/hour at 155mph (250km/h).',\n",
        "              'At SpaceX Boca Chica launch site in Texas', 'Tesla fart app almost done. Important to get every note right!',\n",
        "              'None shall pass!', 'Tesla has released all cars for sale where original customer can’t take delivery before year end, as well as test drive / display cars, which cost less. Reminder to US buyers that $7500 tax credit drops in half in 8 days. Order online at http://Tesla.com or visit stores.',\n",
        "              'Perhaps lost in the transport debate is that @boringcompany built a 6000 ft tunnel in LA for ~$10M with V1 (Godot). Next tunnel will be made with V2 (Line-Storm). V3 (Prufrock), aspirationally 10X better, should be operational next year. For reference:', \n",
        "              'Most people don’t know that the Tesla Supercharger network allows easy long distance travel throughout USA, most of Europe, Canada and China',\n",
        "              'Yes. Supercharger coverage will extend to 100% of Europe next year. From Ireland to Kiev, from Norway to Turkey.',\n",
        "              'As a thank you to Tesla short sellers, we named a fart after them haha', \n",
        "              'Falcon/Dragon launch to @Space_Station in 9 minutes', '64 satellites 🛰 on this flight!', 'Medieval Futurism',\n",
        "               'Physics facts', 'Had to been done ur welcome', 'How’d they know!?', 'i heart anime', 'Twitter is Dark Souls of social media. Reddit is Bloodborne. Insta is Zelda',\n",
        "               'It is time to create a mecha', 'Send me ur dankest memes!!', 'Tesla exists to help reduce risk of catastrophic climate change, which affects all species on Earth. Even if your faith in humanity is faltering, this is worth caring about. Support makes a difference. Thank you.',\n",
        "               'Falcon has landed', 'Twitter thought I got hacked & locked my account haha', 'And remember …', 'Deleted my Tesla titles last week to see what would happen. I’m now the Nothing of Tesla. Seems fine so far.',\n",
        "               'Fresh puro from my meme dealer', 'The first tunnel is almost done', 'People sometimes forget that a company is just a group of people gathered together to make products. So long as it makes great products, it will have great value.',\n",
        "               'Love Your Name', 'Model 3 motor & gearbox still in good condition after driving 1M miles. Designed for ultra high endurance.',\n",
        "               'On Twitter, likes are rare & criticism is brutal. So hardcore. It’s great.', 'Teslaquila coming soon …',\n",
        "               'Tomorrow brings a lemur', 'Glad you’re ok @tylerthecreator', 'Time', 'Get this question a lot, so need to clarify that there’s no such thing as a Tesla “refresh”. Other car companies do this every ~3 years, but Tesla constantly upgrades vehicle hardware every week.',\n",
        "               'Tesla Autopilot Drive on Navigation going to wide release in North America tonight', 'Massive thanks to Tesla owners & supporters. We wouldn’t be here without you.',\n",
        "               'That was intense', 'A reminder of why it’s important to accelerate advent of cars powered by electricity made from solar power',\n",
        "               'Just want to that the Shortseller Enrichment Commission is doing incredible work. And the name change is so on point!',\n",
        "               'Just reviewed Tesla’s service locations in North America & realized we have major gaps in geographic coverage! Sorry for this foolish oversight. Tesla will aim to cover all regions of NA (not just big cities) within 3 to 6 months.',\n",
        "               'The physics of how Tesla achieved best safety of any cars ever tested. Note, when vehicle weight is taken into account, order is more like X,S, then 3, but they are all very close.',\n",
        "               'Tesla owners can refer someone to buy a Tesla & get any image they want laser etched in glass & sent to deep space for millions of years',\n",
        "               'Just released lower cost, mid-range Tesla Model 3 & super simple new order page', 'Studebaker Museum in South Bend',\n",
        "               'Fire and Ice', 'At Falcon LZ-1 Vandenberg on Sunday night with the Base Commander. Support of @USAirForce much appreciated.',\n",
        "               'Order Tesla without test drive & you get 3 days to return for refund, else 1 day', 'Sorry for difficulties delivering your Tesla due to high volume! Critical to show that environmentally sustainable is financially sustainable.',\n",
        "               'Huge thank you to all Tesla supporters for helping with car deliveries all around the world. You rock!!', 'Naughty by Nature',\n",
        "               'Works best if you play games full screen & use steering wheel scroller balls for control', 'To simplify production, many Tesla Model S & X interior configs, will no longer be available after Nov 1. Order now to be sure of the one you want.',\n",
        "               'Sonic boom warning. This won’t be subtle.', 'Insightful article by David @Pogue', 'Special Circumstances',\n",
        "               'First Falcon 9 land landing mission from Vandenberg Air Force Base in California coming up soon!', 'Dog saves her puppies',\n",
        "               'Tesla owner shows how well ultrawhite seats hold up after 25,000 miles. The black & white interior is def best imo.',\n",
        "               'Great verdict', 'Blade Runner — Esper Edition — Vangelis https://m.youtube.com/watch?feature=youtu.be&v=SQFRtbDK9Yk',\n",
        "               'Am considering taking Tesla private at $420. Funding secured.', 'The world lost a great man in John McCain. He was an honorable, kind, brave and fundamentally decent human being. If only there were more such people in the world.',\n",
        "               'Defeating traffic is the ultimate boss battle', 'Short shorts coming soon to Tesla merch', 'If you’re into video game development, consider applying to Tesla. We want to make super fun games that integrate the center touch screen, phone & car irl.',\n",
        "               'Nothing is both real & imaginary', 'Goal is to service your car wherever you are, quietly & quickly. No need to bring it to a Tesla service center.',\n",
        "               'Reports that I am a top donor to GOP are categorically false. I am not a top donor to any political party.', 'Great meeting you!',\n",
        "               'Think once, Tweet twice [do it]', 'We tried out a new delivery system using an enclosed trailer straight from factory to owner’s home, so super convenient & car arrives in pristine condition without wasting plastic wrap',\n",
        "               'Just finished an amazing 3 day visit to China. The world has never seen human energy & vigor at such scale. Incredibly impressed with Tesla China team & potential for the future.',\n",
        "               'Good morning', 'Love born in the brain is more spirited, doubtless, than true love, but it has only flashes of enthusiasm; it knows itself too well, it criticizes itself incessantly; so far from banishing thought, it is itself reared only upon a structure of thought.',\n",
        "               'Some of best classic @Atari games coming as Easter eggs in Tesla V9.0 release in about 4 weeks. Thanks @Atari!', 'Model 3 traction testing on pure ice & snow',\n",
        "               'No kidding', 'Worth another retweet. Hope Dan Neil returns to Twitter. He left due to relentless attacks from short-sellers, who constantly peddle fear, uncertainty & doubt about Tesla. Dan won the Pulitzer & is considered by many to be the best car critic in the world.',\n",
        "               'Thank you for fighting climate change. This affects every living creature on Earth.', 'Feels like a show & tell weekend. I wonder what the cat dragged in …',\n",
        "               'This is actually real', 'Investor support is confirmed. Only reason why this is not certain is that it’s contingent on a shareholder vote.', \n",
        "               'Great Q&A @defcon last night. Thanks for helping make Tesla & SpaceX more secure! Planning to open-source Tesla vehicle security software for free use by other car makers. Extremely important to a safe self-driving future for all.',\n",
        "               'Not having a big gas guzzler engine in front means there’s room for trunks in front & back, plus longer crumple zone for best safety of any midsize car',\n",
        "               'Super appreciate free concert for Tesla during this intense time!', 'Dang, turns out even Hitler was shorting Tesla stock …',\n",
        "               'Really makes me wanna buy Rice Krispies', 'The future is accelerating', 'Wall Street', 'Squirrels …', 'I wish',\n",
        "               'This time, the vacuum tunnel will be a bit longer & SpaceX will provide some advance funding for student teams with most promising designs. Bonus award for all race pods that exceed half the speed of sound!',\n",
        "               'Wagnerian', 'Tesla deliveries & AP hardware chart by @lexfridman at MIT', 'Interesting read', '.@defcon. hqr sz wut.', 'Glad you’re enjoying Model 3 & thanks for buying a Tesla! Major enhancements to Autopilot & fun games coming in a month with V9.0.',\n",
        "               'Falcon 9 launches Iridium to orbit from Vandenberg Air Force Base', 'Wrote in Grimoire, joined Fellowship', '8-bit floating point?',\n",
        "               'Read Eliot’s notes on The Waste Land', 'Performance Model 3 review by @mattdebord', 'Love The Handmaiden. Director also made original Korean Oldboy.',\n",
        "               'Mötor Trēnd', 'This is my pet bee, Eric', 'Falcon Rising', 'Boring Company starts digging Vegas tunnel in 2 months. Aiming to finish by end of year.',\n",
        "               'Those who proclaim themselves “socialists” are usually depressing, have no sense of humor & attended an expensive college. Fate loves irony.',\n",
        "               'Engineering is magic', 'My “pay” is in options, which only matter if stock goes up & I sell. Will use that to make life multiplanetary, help education & environment on Earth w my foundation. Just don’t want us to be sad about the future.',\n",
        "               'Socialism vs capitalism is not even the right question. What really matters is avoiding monopolies that restrict people’s freedom.',\n",
        "               'Almost forgot! Due to recent regulatory/customs rules enacted to inhibit transport of anything called a Flamethrower, we have renamed our product: “Not a Flamethrower”.',\n",
        "               'The enemy of my enemy is myself', 'Terms & conditions for “Not-a-Flamethrower Please use as directed to avoid unintentionally burning things down. For simple & concise instructions, we drew upon wisdom in great Dr Seuss book “Green Eggs and Ham”. #ThrowFlamesResponsibly',\n",
        "               'This is why we must preserve the light of consciousness by becoming a spacefaring civilization & extending life to other planets ',\n",
        "               'Difficult, but necessary Tesla reorg underway. My email to the company has already leaked to media. Here it is unfiltered:',\n",
        "               'SpaceX option package for new Tesla Roadster will include ~10 small rocket thrusters arranged seamlessly around car. These rocket engines dramatically improve acceleration, top speed, braking & cornering. Maybe they will even allow a Tesla to fly …',\n",
        "               'First 1000 Boring Company Flamethrowers being picked up today!', 'Amazing work by Tesla team. Built entire new general assembly line in 3 weeks w minimal resources. Love u guys so much! Pic of 1st Model 3 dual motor performance coming off the line …',\n",
        "               'Cool, Tesla S/X have hospital operating room air quality when BWD mode is activated, so shd protect against even a weaponized virus',\n",
        "               'Without change, something sleeps inside us, and seldom awakens. The sleeper must awaken. FH …', '“No sense of humor” is certainly proving itself true. Good grief! How many socialists does it take to screw in a lightbulb? Answer: That’s not funny!!'\n",
        "               'Running track in @SpaceX BF Spaceship will look something like this', 'What would you love to see in a Tesla pickup truck? I have a few things in mind, but what do you think are small, but important nuances & what would be seriously next level?',\n",
        "               'Looks so sus when we paint cars red', 'Mason jars with a handle or wine stem cause me to lose faith in humanity',\n",
        "               'What is my purpose? Sentient seats.', 'Glad you’re ok!', 'The Spice. Must. Flow.', 'Appreciate all the good wishes. First bday I’ve spent in the factory, but it’s somehow the best.',\n",
        "               'If you must know, I am a utopian anarchist of the kind best described by Iain Banks', 'Am def not under any illusion that this will end illiteracy, but I hope it helps at least a little',\n",
        "               'Heading back into the factory, so that’s enough for now. Don’t take my Tweet too seriously. For one thing, it’s called a “Tweet”.',\n",
        "               'Should prob articulate philosophy underlying my actions. It’s pretty simple & mostly influenced by Douglas Adams & Isaac Asimov.', 'hank you for helping those in need',\n",
        "               'Well said', 'Filters bacteria, viruses, spores, pollen & particulate of almost any kind', 'Tesla factory rn',\n",
        "               'Tip of the day …', 'The Semi-erotics of Evil', 'Some details on the Tesla air filtration system', 'Best analysis of Model 3 to date (German)',\n",
        "               'Cool video', 'Shelter', 'Search UAW and “corruption”. Very long reading list. Great organization.', 'Who likes short shorts?',\n",
        "               'Dune. The spice must flow.', 'Space Laser', 'Spacebow', 'Excession', 'srsly', 'Open the Knaack HAL', 'Paint shop', 'Tesla Semi Truck in Mad Max Mode',\n",
        "               'Tesla Enhanced Summon coming out in US next week for anyone with Enhanced Autopilot or Full Self-Driving option', ''\n",
        "               'Oh btw I’m building a cyborg dragon', 'Tesla batteries are currently live & delivering power at 662 locations in Puerto Rico. Team is working 24/7 to activate several hundred more.',\n",
        "               'I just realized there is a jazz hands emoji', 'Why Falcon Heavy & Starman? Life cannot just be about solving one sad problem after another. There need to be things that inspire you, that make you glad to wake up in the morning and be part of humanity. That is why we did it. We did for you.',\n",
        "               \"Tesla Goes Bankrupt Palo Alto, California, April 1, 2018 -- Despite intense efforts to raise money, including a last-ditch mass sale of Easter Eggs, we are sad to report that Tesla has gone completely and totally bankrupt. So bankrupt, you can't believe it.\",\n",
        "               'There are many chapters of bankruptcy and, as critics so rightly pointed out, Tesla has them *all*, including Chapter 14 and a half (the worst one).',\n",
        "               \"Elon was found passed out against a Tesla Model 3, surrounded by Teslaquilla bottles, the tracks of dried tears still visible on his cheeks. This is not a forward-looking statement, because, obviously, what's the point? Happy New Month!\",\n",
        "               'Turns out joking about being a “rock” star because of digging tunnels (through, uh, rock — hello??) is deeply underappreciated',\n",
        "               'Adjusting The Boring Company plan: all tunnels & Hyperloop will prioritize pedestrians & cyclists over cars', 'Important news in a few hours …',\n",
        "               'Falcon 9 flight 50 launches tonight, carrying Hispasat for Spain. At 6 metric tons and almost the size of a city bus, it will be the largest geostationary satellite we’ve ever flown.',\n",
        "               'New Boring Company merch coming soon. Lifesize LEGO-like interlocking bricks made from tunneling rock that you can use to create sculptures & buildings. Rated for California seismic loads, so super strong, but bored in the middle, like an aircraft wing spar, so not heavy.',\n",
        "               'This is gonna sound crazy, but …', 'SpaceX will try to bring rocket upper stage back from orbital velocity using a giant party balloon', 'And then land on a bouncy house', 'Love seeing the scars of the rocket', '“You are my creator, but I am your master” — Mary Shelley',\n",
        "               'From my Mom: every time I use irony, I lose a friend', 'Nothing will affect the future of humanity more than digital super-intelligence. Watch Chris Paine’s new AI movie for free until Sunday night at http://doyoutrustthiscomputer.org/watch',\n",
        "               'First production cargo trip of the Tesla Semi heavy duty truck, carrying battery packs from the… https://instagram.com/p/BgCJlKbFckb/',\n",
        "               'Thud!', 'My brother, Jonah and I are going to do a cover of My Little Buttercup from The Three Amigos. It will be terrible. There will also be a plethora of Q and sometimes even A.',\n",
        "               'Attempting recovery of fairing falling down from space (right now) with our boat, Mr Steven. It’s a giant steel & webbing catcher’s mitt superstructure on a high-speed ocean ship. Godspeed, Mr. S …',\n",
        "               'Deep in the hole with my boring machine. Sometimes when we touch, the honesty’s too much ... https://instagram.com/p/Bf1fcw4g4Tx/',\n",
        "               'Maybe there should be 2 providers for Chicago advanced transit. Monopolies are so boring ...', 'Most people don’t know there’s a whole box of Easter eggs with every Tesla. Just tap logo on center screen & wait. Easy access to most of discovered ones. More coming …',\n",
        "               'Will be at SXSW Sat/Sun with Jonah & Lisa, who created Westworld. Jonah made an incredible short reel of Falcon Heavy & Starman. Releases tmrw aft.',\n",
        "               'The Swiss police are smart. Electricity vs diesel & maintenance more than make up for purchase price diff. Plus, the bad guys will def not escape. That’s worth a lot …',\n",
        "               'Interview and Tesla factory tour with Gayle King', 'Free viewing ends in about 5 hours', 'Tunnels', \n",
        "               'SpaceX main body tool for the BFR interplanetary spaceship', 'No technology is too advanced for The Boring Company!',\n",
        "               'Driving a Model 3 and playing', 'Learning how to pour flaming absinthe over a tower of glasses in a Jerusalem speakeasy.… https://instagram.com/p/BggsS4gAJ9v/',\n",
        "               'On the Westworld set with my bro @kimbal https://instagram.com/p/BgK5R1SAjHC/', 'Best music video art I’ve seen in a while',\n",
        "               'http://doyoutrustthiscomputer.org/watch at 5M views after 36 hours. Congrats to Chris Paine & co!', 'Paid respects to Masada earlier today. Live free or die. ',\n",
        "               'Petra and Mars https://instagram.com/p/BglRR6EgB8j/', 'Chris Paine AI movie premiering tonight', \"House party for the autonomous anarcho-syndicalist commune!! —— Peasant Woman: Well, how'd you… https://instagram.com/p/Bg3CLGrACcI/\",\n",
        "               'All we had back then was carpet & a mariachi band. Now, SPACESHIP!!', 'Meetings are a valuable use of time!', 'Tesla Sentry Mode coming soon for all cars with Enhanced Autopilot', 'View from SpaceX Launch Control. Apparently, there is a car in orbit around Earth.',\n",
        "               'Apparently, some customs agencies are saying they won’t allow shipment of anything called a “Flamethrower”. To solve this, we are renaming it “Not a Flamethrower”.',\n",
        "               'Or maybe “Temperature Enhancement Device”', 'The rumor that I’m secretly creating a zombie apocalypse to generate demand for flamethrowers is completely false',\n",
        "               'You’d need millions of zombies for a so-called “apocalypse” anyway. Where would I even get a factory big enough to make so many!?', 'Third burn successful. Exceeded Mars orbit and kept going to the Asteroid Belt.',\n",
        "               'When the zombie apocalypse happens, you’ll be glad you bought a flamethrower. Works against hordes of the undead or your money back!', 'Flamethrowers sold out',\n",
        "               'Last pic of Starman in Roadster on its journey to Mars orbit and then the Asteroid Belt https://instagram.com/p/Be6VZEzgAEk/', 'With Asimov’s Foundation Series etched in glass in the glovebox. Zeroth law …',\n",
        "               'But wait, there’s more: the flamethrower is sentient, its safe word is “cryptocurrency” and it comes with a free blockchain', 'Upper stage restart nominal, apogee raised to 7000 km. Will spend 5 hours getting zapped in Van Allen belts & then attempt final burn for Mars.',\n",
        "               'Obviously, a flamethrower is a super terrible idea. Definitely don’t buy one.', 'Flight profile #FalconHeavy #SpaceX', 'Live view of Starman',\n",
        "               'All flamethrowers will ship with a complimentary boring fire extinguisher', 'Customs problem solved!', 'Printed on the circuit board of a car in deep space',\n",
        "               'Falcon Heavy sends a car to Mars', 'China’s progress in advanced infrastructure is more than 100 times faster than the US', 'The Boring Company flamethrower guaranteed to liven up any party!',\n",
        "               'Today’s Falcon launch carries 2 SpaceX test satellites for global broadband. If successful, Starlink constellation will serve least served.', \n",
        "               'High altitude wind shear data shows a probable 2% load exceedance. Small, but better to be paranoid. Postponing launch to tomorrow, assuming winds are better then.', 'Aiming for first flight of Falcon Heavy on Feb 6 from Apollo launchpad 39A at Cape Kennedy. Easy viewing from the public causeway.',\n",
        "               'Camera views from inside the payload fairing #FalconHeavy https://instagram.com/p/Be3m_LNgOYY/', 'I’m sure it’s parked around here somewhere … http://whereisroadster.com', \n",
        "               'Launch auto-sequence initiated (aka the holy mouse-click) for 3:45 liftoff ', 'This rocket was meant to test very high retrothrust landing in water so it didn’t hurt the droneship, but amazingly it has survived. We will try to tow it back to shore.',\n",
        "               'Falcon Heavy engine plumes look like giant laser beams in this photo by rocketphotography https://instagram.com/p/BfEHEiKgBiK/', \n",
        "               'Now, if I can just figure out how to attach those to a really big shark ...', 'Falcon Heavy launch simulation almost ready. Will be set to Bowie’s Life on Mars.', \n",
        "               'Falcon Heavy remains go for launch at 1:30pm on Tuesday', 'About 2.5 hours to T-0 for Falcon Heavy. Watch sim for highlight reel of what we hope happens. Car actually takes 6 months to cover 200M+ miles to Mars',\n",
        "               'First two Starlink demo satellites, called Tintin A & B, deployed and communicating to Earth stations', '1,000 ordered already, only 19,000 left!',\n",
        "               '10k', '15k', 'Upper atmosphere winds currently 20% above max allowable load. Holding for an hour to allow winds to diminish. #FalconHeavy', \n",
        "               'Made it back from space and fairing parafoil just deployed. Now trying to catch it ...', 'Missed by a few hundred meters, but fairing landed intact in water. Should be able catch it with slightly bigger chutes to slow down descent.',\n",
        "               'Love and Rockets https://instagram.com/p/BfEjUC_gfeo/', 'Rocket LZ 1 and 2 https://instagram.com/p/Be3sOnEA0DK/', 'My new toaster https://instagram.com/p/BfSF-HSgubE/',\n",
        "               'Going to try to catch the giant fairing (nosecone) of Falcon 9 as it falls back from space at… https://instagram.com/p/BfgHKDNAplx/',\n",
        "               'Don’t do this https://instagram.com/p/BeeYW0NA1HU/', 'Falcon Heavy in foreground on Launch Complex 39A and Falcon 9 in background on 40 https://instagram.com/p/BemBlnSAACd/',\n",
        "               'Say hello to my little friend … https://instagram.com/p/BeeTFQ7AYhy/', 'Tintin A & B will attempt to beam “hello world” in about 22 hours when they pass near LA',\n",
        "               'Don’t tell anyone, but the wifi password is “martians”', 'That was a DM, right?', 'Great for roasting nuts Fire Peanuts https://instagram.com/p/BeeUSFwgLrM/',\n",
        "               'Starman in Red Roadster https://instagram.com/p/BezcvpzAgYI/', 'On the rocket LZ https://instagram.com/p/Be36GWVAcR5/', 'Mars Awaits https://instagram.com/p/Bey4NfSgWAi/',\n",
        "               'Falcon fairing half as seen from our catcher’s mitt in boat form, Mr. Steven. No apparent damage… https://instagram.com/p/BfgRX-lgIt6/', \n",
        "               'Regular departures ...', 'Pale blue dot']"
      ],
      "execution_count": 8,
      "outputs": []
    },
    {
      "cell_type": "code",
      "metadata": {
        "colab": {
          "base_uri": "https://localhost:8080/"
        },
        "id": "Wmx0LrADZRHL",
        "outputId": "cb3aa263-979c-4494-d93b-4e3a4426e4dd"
      },
      "source": [
        "# append all tweets together\n",
        "tweets = elon_df['text']\n",
        "\n",
        "tweets_2019 = pd.Series(tweets_2019)\n",
        "tweets_2018 = pd.Series(tweets_2018)\n",
        "old_tweets = pd.Series(tweets_2012)\n",
        "\n",
        "tweets = tweets.append(tweets_2019).reset_index(drop=True)\n",
        "tweets = tweets.append(tweets_2018).reset_index(drop=True)\n",
        "tweets = tweets.append(old_tweets).reset_index(drop=True)\n",
        "tweets.shape"
      ],
      "execution_count": 9,
      "outputs": [
        {
          "output_type": "execute_result",
          "data": {
            "text/plain": [
              "(4097,)"
            ]
          },
          "metadata": {
            "tags": []
          },
          "execution_count": 9
        }
      ]
    },
    {
      "cell_type": "code",
      "metadata": {
        "id": "lx0iQ2NgZ85A"
      },
      "source": [
        "# remove all urls and @'s\n",
        "import re\n",
        "def urlremove(text):  \n",
        "  text = re.sub(r\"(?:\\@|https?\\://)\\S+\", \"\", text)\n",
        "  return ' '.join(text.split())\n",
        "\n",
        "tweets = tweets.apply(urlremove)"
      ],
      "execution_count": 10,
      "outputs": []
    },
    {
      "cell_type": "code",
      "metadata": {
        "id": "cJyUfXJWqOAV"
      },
      "source": [
        "# some tweets were only w urls so remove\n",
        "empty_entries = tweets[tweets == ''].index\n",
        "tweets = tweets.drop(empty_entries)"
      ],
      "execution_count": 11,
      "outputs": []
    },
    {
      "cell_type": "code",
      "metadata": {
        "id": "wdUr8YShWgZf"
      },
      "source": [
        "# export for use in gpt2 notebook\n",
        "tweets.to_csv('tweets.csv', index=False)"
      ],
      "execution_count": 12,
      "outputs": []
    },
    {
      "cell_type": "code",
      "metadata": {
        "colab": {
          "base_uri": "https://localhost:8080/"
        },
        "id": "AHwbeo5GcruK",
        "outputId": "f0b17898-070c-4a55-eed3-a7c42df0ec75"
      },
      "source": [
        "import nltk\n",
        "from nltk.corpus import stopwords\n",
        "\n",
        "nltk.download('stopwords')\n",
        "stop_words = stopwords.words('english')"
      ],
      "execution_count": 13,
      "outputs": [
        {
          "output_type": "stream",
          "text": [
            "[nltk_data] Downloading package stopwords to /root/nltk_data...\n",
            "[nltk_data]   Package stopwords is already up-to-date!\n"
          ],
          "name": "stdout"
        }
      ]
    },
    {
      "cell_type": "markdown",
      "metadata": {
        "id": "vLqxw_LEncn6"
      },
      "source": [
        "Below we are using sklearn's `CountVectorizer` to find the top 20 most occuring words in our corpus. What CountVectorizer does is first tokenize our input, and then represent our vocabulary through a sparse matrix; each row corresponds to a document, or a tweet in this case. Each row is an integer encoded 'vector', where the number in each entry is the number of times that word has appeared in our corpus. Although we can't infer what the word is by just looking at the counts, we can call `CountVectorizer.get_feature_names()` to get the feature vector. "
      ]
    },
    {
      "cell_type": "code",
      "metadata": {
        "colab": {
          "base_uri": "https://localhost:8080/"
        },
        "id": "lpKgt-CucvtC",
        "outputId": "b4c74673-2ce7-467b-9b2f-67d5088dacdf"
      },
      "source": [
        "# visualize top words with BOW approach\n",
        "from sklearn.feature_extraction.text import CountVectorizer\n",
        "import string\n",
        "\n",
        "def tokenize(doc):\n",
        "  # remove url \n",
        "  doc = re.sub(r\"http\\S+\", \"\", doc)\n",
        "  punctuation = string.punctuation\n",
        "  # keep . in docs\n",
        "  punctuation = punctuation.replace('.', '')\n",
        "  s = \"\".join(\" \" if x in string.punctuation else x for x in doc.lower())\n",
        "  s = s.replace('amp', '')\n",
        "  # '&amp' ampersand bug\n",
        "  return s.split()    \n",
        "\n",
        "def get_top_20(ngram_range, new_corpus, stopwords, min_df):\n",
        "    init_vec = CountVectorizer(ngram_range=ngram_range, stop_words = stopwords, min_df=min_df, tokenizer=tokenize)\n",
        "    # get sparse matrix from vocabulary\n",
        "    X = init_vec.fit_transform(new_corpus)\n",
        "    count_list = X.toarray().sum(axis=0) \n",
        "    # getting word features\n",
        "    word_list = init_vec.get_feature_names()\n",
        "    counts = dict(zip(word_list,count_list))\n",
        "    top_20 = sorted(counts.items(), key=lambda x:x[1], reverse=True)[:20]\n",
        "    return top_20, counts\n",
        "\n",
        "top_20, counts = get_top_20((1,1), tweets, stop_words, min_df=1)\n",
        "top_20"
      ],
      "execution_count": 14,
      "outputs": [
        {
          "output_type": "execute_result",
          "data": {
            "text/plain": [
              "[('tesla', 468),\n",
              " ('model', 197),\n",
              " ('good', 178),\n",
              " ('rocket', 138),\n",
              " ('like', 136),\n",
              " ('yes', 132),\n",
              " ('3', 130),\n",
              " ('launch', 129),\n",
              " ('car', 121),\n",
              " ('great', 119),\n",
              " ('falcon', 111),\n",
              " ('next', 107),\n",
              " ('would', 106),\n",
              " ('time', 103),\n",
              " ('1', 100),\n",
              " ('first', 97),\n",
              " ('one', 92),\n",
              " ('spacex', 91),\n",
              " ('thanks', 91),\n",
              " ('much', 88)]"
            ]
          },
          "metadata": {
            "tags": []
          },
          "execution_count": 14
        }
      ]
    },
    {
      "cell_type": "code",
      "metadata": {
        "colab": {
          "base_uri": "https://localhost:8080/",
          "height": 297
        },
        "id": "hLIJruI1xgGF",
        "outputId": "f2a741c0-aa13-4330-90c5-02d480b253fb"
      },
      "source": [
        "labels, ys = zip(*top_20)\n",
        "xs = np.arange(len(labels)) \n",
        "\n",
        "plt.bar(labels, ys, align='center')\n",
        "plt.xticks(xs, labels, rotation=60) #Replace default x-ticks with xs, then replace xs with labels\n",
        "plt.title('Top 20 Words')\n",
        "plt.xlabel('Words')\n",
        "plt.ylabel('Occurrences')\n",
        "plt.tight_layout()"
      ],
      "execution_count": 15,
      "outputs": [
        {
          "output_type": "display_data",
          "data": {
            "image/png": "[encoded data removed]",
            "text/plain": [
              "<Figure size 432x288 with 1 Axes>"
            ]
          },
          "metadata": {
            "tags": [],
            "needs_background": "light"
          }
        }
      ]
    },
    {
      "cell_type": "code",
      "metadata": {
        "colab": {
          "base_uri": "https://localhost:8080/",
          "height": 314
        },
        "id": "CPT5alOP_c4R",
        "outputId": "06f256c1-f806-47c8-f23c-febde4c8a770"
      },
      "source": [
        "# average length of tweets \n",
        "# plot distribution\n",
        "lens = []\n",
        "for tweet in tweets:\n",
        "  lens.append(len(tweet))\n",
        "plt.hist(lens, bins='auto')\n",
        "plt.title('Tweet Length Distribution')\n",
        "plt.tight_layout()\n",
        "print('average tweet length: {}'.format(np.mean(lens)))"
      ],
      "execution_count": 16,
      "outputs": [
        {
          "output_type": "stream",
          "text": [
            "average tweet length: 67.27923686818632\n"
          ],
          "name": "stdout"
        },
        {
          "output_type": "display_data",
          "data": {
            "image/png": "[encoded data removed]",
            "text/plain": [
              "<Figure size 432x288 with 1 Axes>"
            ]
          },
          "metadata": {
            "tags": [],
            "needs_background": "light"
          }
        }
      ]
    },
    {
      "cell_type": "markdown",
      "metadata": {
        "id": "8OO8YMNU28v4"
      },
      "source": [
        "## Prepare for Training"
      ]
    },
    {
      "cell_type": "code",
      "metadata": {
        "colab": {
          "base_uri": "https://localhost:8080/",
          "height": 35
        },
        "id": "QJC4kZfWn5UE",
        "outputId": "5f696be2-2ada-4a21-ff39-1751fd96df21"
      },
      "source": [
        "corpus = \" \".join(tweets)\n",
        "corpus = corpus.replace(\"&amp;\", \"&\")\n",
        "corpus = corpus.encode(\"ascii\", errors=\"ignore\").decode()\n",
        "corpus[:200]"
      ],
      "execution_count": 17,
      "outputs": [
        {
          "output_type": "execute_result",
          "data": {
            "application/vnd.google.colaboratory.intrinsic+json": {
              "type": "string"
            },
            "text/plain": [
              "'Hi Liz! Thanks to everyone who worked so hard to make Tesla successful. My heart goes out to you. Indeed It was a seriously twisted affair, but alls that ends well. They are, although its kind low-key'"
            ]
          },
          "metadata": {
            "tags": []
          },
          "execution_count": 17
        }
      ]
    },
    {
      "cell_type": "code",
      "metadata": {
        "colab": {
          "base_uri": "https://localhost:8080/"
        },
        "id": "IyPSaSHq3IwF",
        "outputId": "4c767d08-6e70-443b-db18-00690d933376"
      },
      "source": [
        "chars = sorted(list(set(corpus)))\n",
        "vocab_size = len(chars)\n",
        "print('corpus length: {}'.format((len(corpus))))\n",
        "print('total chars: {}'.format(vocab_size))"
      ],
      "execution_count": 18,
      "outputs": [
        {
          "output_type": "stream",
          "text": [
            "corpus length: 274428\n",
            "total chars: 89\n"
          ],
          "name": "stdout"
        }
      ]
    },
    {
      "cell_type": "code",
      "metadata": {
        "id": "vSIQU8N6oHyM"
      },
      "source": [
        "# create idx2char dict and char2idx dict\n",
        "char2idx = dict((c, i) for i, c in enumerate(chars))\n",
        "idx2char = dict((i, c) for i, c in enumerate(chars))\n",
        "\n",
        "# map corpus to indices\n",
        "text_as_int = np.array([char2idx[c] for c in corpus])"
      ],
      "execution_count": 19,
      "outputs": []
    },
    {
      "cell_type": "code",
      "metadata": {
        "id": "bcJcE9CLkgfU"
      },
      "source": [
        "BUFFER_SIZE = 10000\n",
        "BATCH_SIZE = 32\n",
        "max_seq_length = 40\n",
        "\n",
        "# train_ds = create_dataset(BATCH_SIZE, BUFFER_SIZE, train_ds)\n",
        "# val_ds = create_dataset(BATCH_SIZE, BUFFER_SIZE, val_ds)"
      ],
      "execution_count": 20,
      "outputs": []
    },
    {
      "cell_type": "code",
      "metadata": {
        "id": "FBuaBNh7vTsZ"
      },
      "source": [
        "tf.compat.v1.reset_default_graph()\n",
        "tf.random.set_seed(0)\n",
        "random.seed(0)\n",
        "np.random.seed(0)"
      ],
      "execution_count": 21,
      "outputs": []
    },
    {
      "cell_type": "code",
      "metadata": {
        "id": "OsLig1BkpInS",
        "colab": {
          "base_uri": "https://localhost:8080/"
        },
        "outputId": "a22237fc-d467-4b85-e072-e943ca9317dc"
      },
      "source": [
        "step = 1\n",
        "dataX, datay = [], []\n",
        "# sliding window of shifted over sequences\n",
        "for i in range(0, len(corpus)-max_seq_length, step):\n",
        "  seq_in = corpus[i:i+max_seq_length]\n",
        "  seq_out = corpus[i+max_seq_length]\n",
        "  dataX.append([char2idx[i] for i in seq_in])\n",
        "  datay.append(char2idx[seq_out])\n",
        "\n",
        "n_patterns = len(dataX)\n",
        "print(n_patterns)"
      ],
      "execution_count": 22,
      "outputs": [
        {
          "output_type": "stream",
          "text": [
            "274388\n"
          ],
          "name": "stdout"
        }
      ]
    },
    {
      "cell_type": "code",
      "metadata": {
        "colab": {
          "base_uri": "https://localhost:8080/"
        },
        "id": "UMMR-_crGNTd",
        "outputId": "39452662-71e3-4cce-9027-4278c8b4b017"
      },
      "source": [
        "# reshape into one hot encoded vectors\n",
        "X = [e for lst in dataX for e in lst]\n",
        "X = keras.utils.to_categorical(X, num_classes=vocab_size)\n",
        "X = np.reshape(X, (n_patterns, max_seq_length, len(X[0])))\n",
        "print(X.shape)\n",
        "\n",
        "# 302599 entries with each entry being 50 by 89\n",
        "# 50 being sequence length and 89 being size of each one hot encoded vector (vocabulary)\n",
        "\n",
        "y = keras.utils.to_categorical(datay, num_classes=vocab_size)\n",
        "y.shape"
      ],
      "execution_count": 23,
      "outputs": [
        {
          "output_type": "stream",
          "text": [
            "(274388, 40, 89)\n"
          ],
          "name": "stdout"
        },
        {
          "output_type": "execute_result",
          "data": {
            "text/plain": [
              "(274388, 89)"
            ]
          },
          "metadata": {
            "tags": []
          },
          "execution_count": 23
        }
      ]
    },
    {
      "cell_type": "code",
      "metadata": {
        "id": "zqW78KDgDPMm"
      },
      "source": [
        "# define tf data and batch accordingly\n",
        "# train val split\n",
        "data_lstm = tf.data.Dataset.from_tensor_slices((X, y))\n",
        "data_lstm = data_lstm.shuffle(BUFFER_SIZE).batch(BATCH_SIZE, drop_remainder=True)\n",
        "\n",
        "TRAIN_SIZE = int(0.85 * (n_patterns//BATCH_SIZE))\n",
        "data_lstm = data_lstm.shuffle(buffer_size= BUFFER_SIZE, reshuffle_each_iteration=False)\n",
        "train_lstm = data_lstm.take(TRAIN_SIZE)\n",
        "val_lstm = data_lstm.skip(TRAIN_SIZE)"
      ],
      "execution_count": 24,
      "outputs": []
    },
    {
      "cell_type": "code",
      "metadata": {
        "id": "PV0oqpMlls2S"
      },
      "source": [
        "# https://www.tensorflow.org/guide/data_performance#caching\n",
        "# cache keeps dataset in memory (so no need for gpu to wait for data to be read)\n",
        "# prefetch applies preprocessing to next batch in parallel with GPU model fitting \n",
        "\n",
        "train_lstm = train_lstm.cache()\n",
        "#train_lstm = train_lstm.prefetch(tf.data.experimental.AUTOTUNE)\n",
        "\n",
        "val_lstm = val_lstm.cache()\n",
        "#val_lstm = val_lstm.prefetch(tf.data.experimental.AUTOTUNE)\n"
      ],
      "execution_count": 25,
      "outputs": []
    },
    {
      "cell_type": "markdown",
      "metadata": {
        "id": "uO5JOO0mriFf"
      },
      "source": [
        "## Model Train"
      ]
    },
    {
      "cell_type": "code",
      "metadata": {
        "colab": {
          "base_uri": "https://localhost:8080/"
        },
        "id": "doKRxyVRNHfc",
        "outputId": "64a0c013-e947-4ae3-f9c7-937ff4beeb56"
      },
      "source": [
        "def build_lstm(rnn_units, dropout, batch_size):\n",
        "  lstm = Sequential()\n",
        "  lstm.add(layers.LSTM(rnn_units, return_sequences=True, batch_input_shape=(batch_size, max_seq_length, vocab_size)))\n",
        "  lstm.add(layers.Dropout(dropout))\n",
        "  lstm.add(layers.LSTM(rnn_units))\n",
        "  lstm.add(layers.Dropout(dropout))\n",
        "  lstm.add(layers.Dense(vocab_size, activation='softmax'))\n",
        "\n",
        "  return lstm\n",
        "\n",
        "lstm = build_lstm(1024, 0.2, BATCH_SIZE)\n",
        "lstm.summary()"
      ],
      "execution_count": 26,
      "outputs": [
        {
          "output_type": "stream",
          "text": [
            "Model: \"sequential\"\n",
            "_________________________________________________________________\n",
            "Layer (type)                 Output Shape              Param #   \n",
            "=================================================================\n",
            "lstm (LSTM)                  (32, 40, 1024)            4562944   \n",
            "_________________________________________________________________\n",
            "dropout (Dropout)            (32, 40, 1024)            0         \n",
            "_________________________________________________________________\n",
            "lstm_1 (LSTM)                (32, 1024)                8392704   \n",
            "_________________________________________________________________\n",
            "dropout_1 (Dropout)          (32, 1024)                0         \n",
            "_________________________________________________________________\n",
            "dense (Dense)                (32, 89)                  91225     \n",
            "=================================================================\n",
            "Total params: 13,046,873\n",
            "Trainable params: 13,046,873\n",
            "Non-trainable params: 0\n",
            "_________________________________________________________________\n"
          ],
          "name": "stdout"
        }
      ]
    },
    {
      "cell_type": "code",
      "metadata": {
        "colab": {
          "base_uri": "https://localhost:8080/",
          "height": 564
        },
        "id": "kfQB7ypv2AWB",
        "outputId": "097c041b-14f2-4de9-8bc8-0b4a1c4c4ed8"
      },
      "source": [
        "from tensorflow.keras.utils import plot_model\n",
        "plot_model(lstm, to_file='model.png')"
      ],
      "execution_count": 27,
      "outputs": [
        {
          "output_type": "execute_result",
          "data": {
            "image/png": "[encoded data removed]",
            "text/plain": [
              "<IPython.core.display.Image object>"
            ]
          },
          "metadata": {
            "tags": []
          },
          "execution_count": 27
        }
      ]
    },
    {
      "cell_type": "code",
      "metadata": {
        "colab": {
          "base_uri": "https://localhost:8080/"
        },
        "id": "0UZkRMjMNy93",
        "outputId": "d825096e-5b4a-4e49-e0f5-ead2f12e2e84"
      },
      "source": [
        "epochs = 20\n",
        "# def perplexity(labels, preds):\n",
        "#     return keras.backend.exp(tf.keras.losses.categorical_crossentropy(labels, preds))\n",
        "\n",
        "# cc takes one hot encoded\n",
        "def loss(labels, logits):\n",
        "  return tf.keras.losses.categorical_crossentropy(labels, logits)\n",
        "\n",
        "optimizer = tf.keras.optimizers.Adam(learning_rate=5e-4, epsilon=1e-8)\n",
        "  \n",
        "lstm.compile(optimizer=optimizer, loss=loss) \n",
        "\n",
        "history_lstm = lstm.fit(train_lstm, epochs=epochs, validation_data=val_lstm, verbose=2)"
      ],
      "execution_count": 28,
      "outputs": [
        {
          "output_type": "stream",
          "text": [
            "Epoch 1/20\n",
            "7287/7287 - 246s - loss: 2.3437 - val_loss: 1.9372\n",
            "Epoch 2/20\n",
            "7287/7287 - 237s - loss: 1.8061 - val_loss: 1.6073\n",
            "Epoch 3/20\n",
            "7287/7287 - 237s - loss: 1.5812 - val_loss: 1.4487\n",
            "Epoch 4/20\n",
            "7287/7287 - 237s - loss: 1.4201 - val_loss: 1.3296\n",
            "Epoch 5/20\n",
            "7287/7287 - 237s - loss: 1.2662 - val_loss: 1.2323\n",
            "Epoch 6/20\n",
            "7287/7287 - 237s - loss: 1.1179 - val_loss: 1.1623\n",
            "Epoch 7/20\n",
            "7287/7287 - 237s - loss: 0.9826 - val_loss: 1.1035\n",
            "Epoch 8/20\n",
            "7287/7287 - 237s - loss: 0.8747 - val_loss: 1.0566\n",
            "Epoch 9/20\n",
            "7287/7287 - 237s - loss: 0.7915 - val_loss: 1.0325\n",
            "Epoch 10/20\n",
            "7287/7287 - 237s - loss: 0.7329 - val_loss: 1.0063\n",
            "Epoch 11/20\n",
            "7287/7287 - 237s - loss: 0.6854 - val_loss: 1.0073\n",
            "Epoch 12/20\n",
            "7287/7287 - 237s - loss: 0.6537 - val_loss: 0.9915\n",
            "Epoch 13/20\n",
            "7287/7287 - 237s - loss: 0.6275 - val_loss: 0.9890\n",
            "Epoch 14/20\n",
            "7287/7287 - 237s - loss: 0.6094 - val_loss: 0.9902\n",
            "Epoch 15/20\n",
            "7287/7287 - 237s - loss: 0.5914 - val_loss: 0.9887\n",
            "Epoch 16/20\n",
            "7287/7287 - 237s - loss: 0.5765 - val_loss: 0.9632\n",
            "Epoch 17/20\n",
            "7287/7287 - 237s - loss: 0.5658 - val_loss: 0.9640\n",
            "Epoch 18/20\n",
            "7287/7287 - 237s - loss: 0.5615 - val_loss: 0.9595\n",
            "Epoch 19/20\n",
            "7287/7287 - 237s - loss: 0.5509 - val_loss: 0.9657\n",
            "Epoch 20/20\n",
            "7287/7287 - 237s - loss: 0.5424 - val_loss: 0.9747\n"
          ],
          "name": "stdout"
        }
      ]
    },
    {
      "cell_type": "code",
      "metadata": {
        "colab": {
          "base_uri": "https://localhost:8080/",
          "height": 297
        },
        "id": "-N9VW7G8qzSm",
        "outputId": "6dd9000f-a521-41be-be41-026d159de3fa"
      },
      "source": [
        "# visualize loss\n",
        "plt.plot(range(1, epochs+1), history_lstm.history['loss'], label='loss')\n",
        "plt.plot(range(1, epochs+1), history_lstm.history['val_loss'], label='val_loss')\n",
        "plt.legend()\n",
        "plt.tight_layout()"
      ],
      "execution_count": 29,
      "outputs": [
        {
          "output_type": "display_data",
          "data": {
            "image/png": "[encoded data removed]",
            "text/plain": [
              "<Figure size 432x288 with 1 Axes>"
            ]
          },
          "metadata": {
            "tags": [],
            "needs_background": "light"
          }
        }
      ]
    },
    {
      "cell_type": "markdown",
      "metadata": {
        "id": "cFULQfU1pYvo"
      },
      "source": [
        "## Generate Text"
      ]
    },
    {
      "cell_type": "code",
      "metadata": {
        "id": "fNJQNPWR6NMv"
      },
      "source": [
        "lstm.save_weights('lstm_weights.hdf5')\n",
        "# build model of batch 1 for evaluation\n",
        "lstm1 = build_lstm(1024, 0.2, 1)\n",
        "lstm1.load_weights('lstm_weights.hdf5')"
      ],
      "execution_count": 30,
      "outputs": []
    },
    {
      "cell_type": "code",
      "metadata": {
        "id": "FsROcLihWxxD"
      },
      "source": [
        "# sourced from keras tutorial\n",
        "def sample(preds, temperature=1.0):\n",
        "    # helper function to sample an index from a probability array\n",
        "    preds = np.asarray(preds).astype('float64')\n",
        "    preds = np.log(preds) / temperature\n",
        "    exp_preds = np.exp(preds)\n",
        "    preds = exp_preds / np.sum(exp_preds)\n",
        "    probas = np.random.multinomial(1, preds, 1)\n",
        "    return np.argmax(probas)"
      ],
      "execution_count": 31,
      "outputs": []
    },
    {
      "cell_type": "code",
      "metadata": {
        "id": "IbBl7rEGOJcR",
        "colab": {
          "base_uri": "https://localhost:8080/"
        },
        "outputId": "1969230f-34bb-4e3a-a121-7d8230d43564"
      },
      "source": [
        "# generating w/ random start index\n",
        "# temperature indicates how 'surprised' we are to see the next word\n",
        "# lower the temperature the more surprising the text\n",
        "# https://cs.stackexchange.com/questions/79241/what-is-temperature-in-lstm-and-neural-networks-generally\n",
        "start_index = random.randint(0, len(corpus) - max_seq_length - 1)\n",
        "for temperature in np.arange(0.25, 1.25, 0.25):\n",
        "  generated = ''\n",
        "  sentence = corpus[start_index:start_index+max_seq_length]\n",
        "  if temperature == 0.25:\n",
        "    print('generating with: ' + sentence)\n",
        "  generated += sentence\n",
        "  print(temperature)\n",
        "  for i in range(100):\n",
        "    test = [char2idx[i] for i in sentence]\n",
        "    test = keras.utils.to_categorical(test, num_classes=vocab_size)\n",
        "    test = tf.expand_dims(test, 0)\n",
        "    preds = lstm1.predict(test)[0]\n",
        "    next_index = sample(preds, temperature)\n",
        "    next_char = idx2char[next_index]\n",
        "    sentence = sentence[1:] + next_char\n",
        "    generated += next_char\n",
        "\n",
        "  print(generated)"
      ],
      "execution_count": 32,
      "outputs": [
        {
          "output_type": "stream",
          "text": [
            "generating with: n In expendable mode, Falcon Heavy can s\n",
            "0.25\n",
            "n In expendable mode, Falcon Heavy can send a malion on the should be powered by a visit to see what it was good & have to be fact game-chan\n",
            "0.5\n",
            "n In expendable mode, Falcon Heavy can send a manium on hold dragon winds everything has less than the Space Station Searching Wow, this mat\n",
            "0.75\n",
            "n In expendable mode, Falcon Heavy can send read right has been the some killed before ok No planmon through the atterot of Nived landed If \n",
            "1.0\n",
            "n In expendable mode, Falcon Heavy can send roll. Back for Reu AMM Good drone ship OC, engauring Tesla Batter Answer by Autopilot Dragon 202\n"
          ],
          "name": "stdout"
        }
      ]
    },
    {
      "cell_type": "code",
      "metadata": {
        "id": "R0kx1pkLEys6"
      },
      "source": [
        "def elon_bot(start_string):\n",
        "  for temperature in np.arange(0.25, 1.25, 0.25): \n",
        "    print('temperature: {}'.format(temperature))\n",
        "    loop_string = start_string \n",
        "    generated = start_string\n",
        "    for i in range(100):\n",
        "      start_tokens = [char2idx[i] for i in loop_string]\n",
        "      pad = max_seq_length - len(start_tokens)\n",
        "      if pad > 0:\n",
        "        start_tokens = [0] * pad + start_tokens   \n",
        "      else:\n",
        "        start_tokens = start_tokens[:max_seq_length]\n",
        "      x = keras.utils.to_categorical(start_tokens, num_classes=vocab_size)\n",
        "      x = tf.expand_dims(x, 0)\n",
        "      preds = lstm1.predict(x)[0]\n",
        "      next_index = sample(preds, temperature)\n",
        "      next_char = idx2char[next_index]\n",
        "      loop_string = loop_string[1:] + next_char\n",
        "      generated += next_char\n",
        "\n",
        "    print(generated)"
      ],
      "execution_count": 33,
      "outputs": []
    },
    {
      "cell_type": "code",
      "metadata": {
        "colab": {
          "base_uri": "https://localhost:8080/"
        },
        "id": "GbPBgc-4ajEd",
        "outputId": "6d828628-1ebd-4637-b609-5541b214bf62"
      },
      "source": [
        "elon_bot('Hello world.')"
      ],
      "execution_count": 42,
      "outputs": [
        {
          "output_type": "stream",
          "text": [
            "temperature: 0.25\n",
            "Hello world. Thanks tomorrow and make is 300 days are of themmout of companies well true! Tesla Model 3 coming s\n",
            "temperature: 0.5\n",
            "Hello world. Hisnese companies (seeit)) Exactly the Shack Same world if we have the memes astan for real with co\n",
            "temperature: 0.75\n",
            "Hello world. Thanks tomorrow music use that properes 1 preserved in TX Love someone hold adeaded Model X huse th\n",
            "temperature: 1.0\n",
            "Hello world. Promacing SpaceX & Starship will go) Yeslop (arthing serrice is design) Good Yora Sell Just wonted \n"
          ],
          "name": "stdout"
        }
      ]
    },
    {
      "cell_type": "code",
      "metadata": {
        "id": "fp9g5d4dYDq8",
        "colab": {
          "base_uri": "https://localhost:8080/",
          "height": 35
        },
        "outputId": "155ce83f-216f-4bb3-b787-7665fdd7ff96"
      },
      "source": [
        "# some favorite generated texts\n",
        "'It is all for rocket now'\n",
        "'Tesla was wild. That was a pickup truck.'\n",
        "'Hello world. Development. This will be fine. No technology, so they so no sense.'"
      ],
      "execution_count": 35,
      "outputs": [
        {
          "output_type": "execute_result",
          "data": {
            "application/vnd.google.colaboratory.intrinsic+json": {
              "type": "string"
            },
            "text/plain": [
              "'Hello world. Development. This will be fine. No technology, so they so no sense.'"
            ]
          },
          "metadata": {
            "tags": []
          },
          "execution_count": 35
        }
      ]
    },
    {
      "cell_type": "markdown",
      "metadata": {
        "id": "Qo6dhVSOLYqi"
      },
      "source": [
        "## Karpathy Char RNN w/ attention\n"
      ]
    },
    {
      "cell_type": "code",
      "metadata": {
        "id": "AbsF3ZODLjpB"
      },
      "source": [
        "data_xd = tf.data.Dataset.from_tensor_slices((dataX, y))\n",
        "data_xd = data_xd.shuffle(BUFFER_SIZE).batch(BATCH_SIZE, drop_remainder=True)"
      ],
      "execution_count": 36,
      "outputs": []
    },
    {
      "cell_type": "code",
      "metadata": {
        "id": "IC9Dc9LwjeUC"
      },
      "source": [
        "# from Max Woolf's textgenrnn https://github.com/minimaxir/textgenrnn\n",
        "from tensorflow.keras.layers import Layer, InputSpec\n",
        "from tensorflow.keras import backend as K\n",
        "from tensorflow.keras import initializers\n",
        "\n",
        "\n",
        "class AttentionWeightedAverage(Layer):\n",
        "    \"\"\"\n",
        "    Computes a weighted average of the different channels across timesteps.\n",
        "    Uses 1 parameter pr. channel to compute the attention value for\n",
        "    a single timestep.\n",
        "    \"\"\"\n",
        "\n",
        "    def __init__(self, return_attention=False, **kwargs):\n",
        "        self.init = initializers.get('uniform')\n",
        "        self.supports_masking = True\n",
        "        self.return_attention = return_attention\n",
        "        super(AttentionWeightedAverage, self).__init__(** kwargs)\n",
        "\n",
        "    def build(self, input_shape):\n",
        "        self.input_spec = [InputSpec(ndim=3)]\n",
        "        assert len(input_shape) == 3\n",
        "\n",
        "        self.W = self.add_weight(shape=(input_shape[2], 1),\n",
        "                                 name='{}_W'.format(self.name),\n",
        "                                 trainable=True,\n",
        "                                 initializer=self.init)\n",
        "        super(AttentionWeightedAverage, self).build(input_shape)\n",
        "\n",
        "    def call(self, x, mask=None):\n",
        "        # computes a probability distribution over the timesteps\n",
        "        # uses 'max trick' for numerical stability\n",
        "        # reshape is done to avoid issue with Tensorflow\n",
        "        # and 1-dimensional weights\n",
        "        logits = K.dot(x, self.W)\n",
        "        x_shape = K.shape(x)\n",
        "        logits = K.reshape(logits, (x_shape[0], x_shape[1]))\n",
        "        ai = K.exp(logits - K.max(logits, axis=-1, keepdims=True))\n",
        "\n",
        "        # masked timesteps have zero weight\n",
        "        if mask is not None:\n",
        "            mask = K.cast(mask, K.floatx())\n",
        "            ai = ai * mask\n",
        "        att_weights = ai / (K.sum(ai, axis=1, keepdims=True) + K.epsilon())\n",
        "        weighted_input = x * K.expand_dims(att_weights)\n",
        "        result = K.sum(weighted_input, axis=1)\n",
        "        if self.return_attention:\n",
        "            return [result, att_weights]\n",
        "        return result\n",
        "\n",
        "    def get_output_shape_for(self, input_shape):\n",
        "        return self.compute_output_shape(input_shape)\n",
        "\n",
        "    def compute_output_shape(self, input_shape):\n",
        "        output_len = input_shape[2]\n",
        "        if self.return_attention:\n",
        "            return [(input_shape[0], output_len), (input_shape[0],\n",
        "                                                   input_shape[1])]\n",
        "        return (input_shape[0], output_len)\n",
        "\n",
        "    def compute_mask(self, input, input_mask=None):\n",
        "        if isinstance(input_mask, list):\n",
        "            return [None] * len(input_mask)\n",
        "        else:\n",
        "            return None"
      ],
      "execution_count": 37,
      "outputs": []
    },
    {
      "cell_type": "code",
      "metadata": {
        "colab": {
          "base_uri": "https://localhost:8080/"
        },
        "id": "ba-UIugNf7OI",
        "outputId": "d47469ff-5dc6-45cb-a02d-bcf99eae5d7f"
      },
      "source": [
        "input=layers.Input(shape=(max_seq_length,) )\n",
        "embedded=layers.Embedding(input_dim=vocab_size, output_dim=100, input_length=max_seq_length, batch_size=32)(input)\n",
        "encoded1=layers.LSTM(128, return_sequences=True)(embedded)\n",
        "encoded2=layers.LSTM(128, return_sequences=True)(encoded1)\n",
        "merged = tf.keras.layers.concatenate([embedded] + [encoded1, encoded2])\n",
        "attention = AttentionWeightedAverage(name='attention')(merged)\n",
        "output = layers.Dense(vocab_size, activation='softmax')(attention)\n",
        "model = Model(inputs=[input], outputs=[output])\n",
        "\n",
        "model.summary()"
      ],
      "execution_count": 38,
      "outputs": [
        {
          "output_type": "stream",
          "text": [
            "Model: \"model\"\n",
            "__________________________________________________________________________________________________\n",
            "Layer (type)                    Output Shape         Param #     Connected to                     \n",
            "==================================================================================================\n",
            "input_1 (InputLayer)            [(None, 40)]         0                                            \n",
            "__________________________________________________________________________________________________\n",
            "embedding (Embedding)           (None, 40, 100)      8900        input_1[0][0]                    \n",
            "__________________________________________________________________________________________________\n",
            "lstm_4 (LSTM)                   (None, 40, 128)      117248      embedding[0][0]                  \n",
            "__________________________________________________________________________________________________\n",
            "lstm_5 (LSTM)                   (None, 40, 128)      131584      lstm_4[0][0]                     \n",
            "__________________________________________________________________________________________________\n",
            "concatenate (Concatenate)       (None, 40, 356)      0           embedding[0][0]                  \n",
            "                                                                 lstm_4[0][0]                     \n",
            "                                                                 lstm_5[0][0]                     \n",
            "__________________________________________________________________________________________________\n",
            "attention (AttentionWeightedAve (None, 356)          356         concatenate[0][0]                \n",
            "__________________________________________________________________________________________________\n",
            "dense_2 (Dense)                 (None, 89)           31773       attention[0][0]                  \n",
            "==================================================================================================\n",
            "Total params: 289,861\n",
            "Trainable params: 289,861\n",
            "Non-trainable params: 0\n",
            "__________________________________________________________________________________________________\n"
          ],
          "name": "stdout"
        }
      ]
    },
    {
      "cell_type": "code",
      "metadata": {
        "colab": {
          "base_uri": "https://localhost:8080/",
          "height": 661
        },
        "id": "RWgqPtCjid0e",
        "outputId": "be455fab-86e2-404a-ae98-a69c296b626f"
      },
      "source": [
        "plot_model(model, to_file='model.png')"
      ],
      "execution_count": 39,
      "outputs": [
        {
          "output_type": "execute_result",
          "data": {
            "image/png": "[encoded data removed]",
            "text/plain": [
              "<IPython.core.display.Image object>"
            ]
          },
          "metadata": {
            "tags": []
          },
          "execution_count": 39
        }
      ]
    },
    {
      "cell_type": "code",
      "metadata": {
        "colab": {
          "base_uri": "https://localhost:8080/"
        },
        "id": "lNb1QsG8hGMf",
        "outputId": "11441c7a-ccdf-4f88-a048-5464cc8457ea"
      },
      "source": [
        "model.compile(optimizer='adam', loss=loss) \n",
        "his = model.fit(data_xd, epochs=20)"
      ],
      "execution_count": 40,
      "outputs": [
        {
          "output_type": "stream",
          "text": [
            "Epoch 1/20\n",
            "8574/8574 [==============================] - 63s 7ms/step - loss: 3.1872\n",
            "Epoch 2/20\n",
            "8574/8574 [==============================] - 60s 7ms/step - loss: 2.3196\n",
            "Epoch 3/20\n",
            "8574/8574 [==============================] - 60s 7ms/step - loss: 1.9743\n",
            "Epoch 4/20\n",
            "8574/8574 [==============================] - 60s 7ms/step - loss: 1.7967\n",
            "Epoch 5/20\n",
            "8574/8574 [==============================] - 60s 7ms/step - loss: 1.6959\n",
            "Epoch 6/20\n",
            "8574/8574 [==============================] - 60s 7ms/step - loss: 1.6312\n",
            "Epoch 7/20\n",
            "8574/8574 [==============================] - 60s 7ms/step - loss: 1.5801\n",
            "Epoch 8/20\n",
            "8574/8574 [==============================] - 60s 7ms/step - loss: 1.5423\n",
            "Epoch 9/20\n",
            "8574/8574 [==============================] - 60s 7ms/step - loss: 1.5088\n",
            "Epoch 10/20\n",
            "8574/8574 [==============================] - 60s 7ms/step - loss: 1.4803\n",
            "Epoch 11/20\n",
            "8574/8574 [==============================] - 60s 7ms/step - loss: 1.4546\n",
            "Epoch 12/20\n",
            "8574/8574 [==============================] - 61s 7ms/step - loss: 1.4323\n",
            "Epoch 13/20\n",
            "8574/8574 [==============================] - 60s 7ms/step - loss: 1.4106\n",
            "Epoch 14/20\n",
            "8574/8574 [==============================] - 60s 7ms/step - loss: 1.3926\n",
            "Epoch 15/20\n",
            "8574/8574 [==============================] - 60s 7ms/step - loss: 1.3748\n",
            "Epoch 16/20\n",
            "8574/8574 [==============================] - 60s 7ms/step - loss: 1.3617\n",
            "Epoch 17/20\n",
            "8574/8574 [==============================] - 62s 7ms/step - loss: 1.3458\n",
            "Epoch 18/20\n",
            "8574/8574 [==============================] - 60s 7ms/step - loss: 1.3321\n",
            "Epoch 19/20\n",
            "8574/8574 [==============================] - 60s 7ms/step - loss: 1.3204\n",
            "Epoch 20/20\n",
            "8574/8574 [==============================] - 61s 7ms/step - loss: 1.3087\n"
          ],
          "name": "stdout"
        }
      ]
    },
    {
      "cell_type": "code",
      "metadata": {
        "id": "gfBdjH8MnsAw"
      },
      "source": [
        "model.save_weights('karpathy.hdf5')\n"
      ],
      "execution_count": 41,
      "outputs": []
    },
    {
      "cell_type": "markdown",
      "metadata": {
        "id": "kPhE7r8mCIOw"
      },
      "source": [
        "## References:\n",
        "\n",
        "*   Tensorflow Text Generation Tutorial: https://www.tensorflow.org/tutorials/text/text_generation\n",
        "*   Keras Character Text Gen Tutorial: https://keras.io/examples/generative/lstm_character_level_text_generation/\n",
        "* Max Woolf's textgenrnn https://github.com/minimaxir/textgenrnn\n",
        "* https://machinelearningmastery.com/text-generation-lstm-recurrent-neural-networks-python-keras/ \n",
        "* https://cs.stackexchange.com/questions/79241/what-is-temperature-in-lstm-and-neural-networks-generally\n",
        "\n"
      ]
    }
  ]
}